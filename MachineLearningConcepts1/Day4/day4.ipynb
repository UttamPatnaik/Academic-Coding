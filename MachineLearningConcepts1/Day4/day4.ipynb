{
 "cells": [
  {
   "cell_type": "markdown",
   "id": "8649f1ed",
   "metadata": {},
   "source": [
    "# Data Structures in PANDAS\n",
    "\n",
    "Series: 1-Dimensional\n",
    "DataFrame: 2-Dimensional"
   ]
  },
  {
   "cell_type": "code",
   "execution_count": 1,
   "id": "2405f4a6",
   "metadata": {},
   "outputs": [],
   "source": [
    "import pandas as pa"
   ]
  },
  {
   "cell_type": "code",
   "execution_count": 2,
   "id": "6c1ce231",
   "metadata": {},
   "outputs": [],
   "source": [
    "import numpy as np"
   ]
  },
  {
   "cell_type": "code",
   "execution_count": 4,
   "id": "1e2d05b5",
   "metadata": {},
   "outputs": [
    {
     "name": "stdout",
     "output_type": "stream",
     "text": [
      "0    10\n",
      "1    15\n",
      "2    18\n",
      "3    22\n",
      "dtype: int64\n"
     ]
    }
   ],
   "source": [
    "arr=np.array([10,15,18,22])\n",
    "ser=pa.Series(arr)\n",
    "print(ser)"
   ]
  },
  {
   "cell_type": "code",
   "execution_count": 5,
   "id": "6be72323",
   "metadata": {},
   "outputs": [
    {
     "name": "stdout",
     "output_type": "stream",
     "text": [
      "1    a\n",
      "2    b\n",
      "3    c\n",
      "4    d\n",
      "dtype: object\n"
     ]
    }
   ],
   "source": [
    "arr=np.array(['a','b','c','d'])\n",
    "ser=pa.Series(arr,index=[1,2,3,4])\n",
    "print(ser)"
   ]
  },
  {
   "cell_type": "code",
   "execution_count": 6,
   "id": "5d7671db",
   "metadata": {},
   "outputs": [
    {
     "name": "stdout",
     "output_type": "stream",
     "text": [
      "0    50\n",
      "1    50\n",
      "2    50\n",
      "3    50\n",
      "4    50\n",
      "5    50\n",
      "dtype: int64\n"
     ]
    }
   ],
   "source": [
    "ser=pa.Series(50,index=[0,1,2,3,4,5])\n",
    "print(ser)"
   ]
  },
  {
   "cell_type": "code",
   "execution_count": 7,
   "id": "c119f4a0",
   "metadata": {},
   "outputs": [
    {
     "name": "stdout",
     "output_type": "stream",
     "text": [
      "0    50\n",
      "dtype: int64\n"
     ]
    }
   ],
   "source": [
    "ser=pa.Series(50)\n",
    "print(ser)"
   ]
  },
  {
   "cell_type": "code",
   "execution_count": 8,
   "id": "7bca057f",
   "metadata": {},
   "outputs": [
    {
     "name": "stdout",
     "output_type": "stream",
     "text": [
      "0     6\n",
      "1     8\n",
      "2    10\n",
      "3    12\n",
      "dtype: int64\n"
     ]
    }
   ],
   "source": [
    "se1=pa.Series([1,2,3,4])\n",
    "se2=pa.Series([5,6,7,8])\n",
    "se3=se1+se2\n",
    "print(se3)"
   ]
  },
  {
   "cell_type": "code",
   "execution_count": 9,
   "id": "ebdd5274",
   "metadata": {},
   "outputs": [
    {
     "name": "stdout",
     "output_type": "stream",
     "text": [
      "0     6.0\n",
      "1     8.0\n",
      "2    10.0\n",
      "3     NaN\n",
      "dtype: float64\n"
     ]
    }
   ],
   "source": [
    "se1=pa.Series([1,2,3,4])\n",
    "se2=pa.Series([5,6,7])\n",
    "se3=se1+se2\n",
    "print(se3)"
   ]
  },
  {
   "cell_type": "code",
   "execution_count": 10,
   "id": "ce9e744c",
   "metadata": {},
   "outputs": [
    {
     "name": "stdout",
     "output_type": "stream",
     "text": [
      "a     6\n",
      "b     8\n",
      "c    10\n",
      "d    12\n",
      "dtype: int64\n"
     ]
    }
   ],
   "source": [
    "se1=pa.Series([1,2,3,4],index=['a','b','c','d'])\n",
    "se2=pa.Series([5,6,7,8],index=['a','b','c','d'])\n",
    "se3=se1+se2\n",
    "print(se3)"
   ]
  },
  {
   "cell_type": "code",
   "execution_count": 15,
   "id": "26b805f7",
   "metadata": {},
   "outputs": [
    {
     "name": "stdout",
     "output_type": "stream",
     "text": [
      "a     6\n",
      "b     8\n",
      "c    10\n",
      "d    12\n",
      "dtype: int64\n"
     ]
    }
   ],
   "source": [
    "se1=pa.Series([1,2,3,4],index=['a','b','c','d'])\n",
    "se2=pa.Series([5,6,7,8],index=['a','b','c','d'])\n",
    "se2=se2.add(se1)\n",
    "print(se2)"
   ]
  },
  {
   "cell_type": "code",
   "execution_count": 16,
   "id": "e83a7ed1",
   "metadata": {},
   "outputs": [
    {
     "name": "stdout",
     "output_type": "stream",
     "text": [
      "a     6.0\n",
      "b     8.0\n",
      "c    10.0\n",
      "d     8.0\n",
      "dtype: float64\n"
     ]
    }
   ],
   "source": [
    "se1=pa.Series([1,2,3],index=['a','b','c'])\n",
    "se2=pa.Series([5,6,7,8],index=['a','b','c','d'])\n",
    "se2=se2.add(se1,fill_value=0)\n",
    "print(se2)"
   ]
  },
  {
   "cell_type": "code",
   "execution_count": 20,
   "id": "14b525eb",
   "metadata": {},
   "outputs": [
    {
     "name": "stdout",
     "output_type": "stream",
     "text": [
      "0    1\n",
      "1    2\n",
      "2    3\n",
      "3    4\n",
      "4    5\n",
      "dtype: int64\n",
      "0    1\n",
      "1    2\n",
      "2    3\n",
      "dtype: int64\n",
      "4    5\n",
      "5    6\n",
      "6    7\n",
      "7    8\n",
      "8    9\n",
      "dtype: int64\n",
      "7    8\n",
      "8    9\n",
      "dtype: int64\n"
     ]
    }
   ],
   "source": [
    "ar=np.array([1,2,3,4,5,6,7,8,9])\n",
    "s=pa.Series(ar)\n",
    "print(s.head())\n",
    "print(s.head(3))\n",
    "print(s.tail())\n",
    "print(s.tail(2))"
   ]
  },
  {
   "cell_type": "code",
   "execution_count": 23,
   "id": "21adf799",
   "metadata": {},
   "outputs": [
    {
     "name": "stdout",
     "output_type": "stream",
     "text": [
      "0    1\n",
      "1    2\n",
      "2    3\n",
      "3    4\n",
      "4    5\n",
      "5    6\n",
      "6    7\n",
      "7    8\n",
      "8    9\n",
      "dtype: int64\n",
      "0    1\n",
      "1    2\n",
      "2    3\n",
      "3    4\n",
      "4    5\n",
      "5    6\n",
      "6    7\n",
      "dtype: int64\n",
      "2    3\n",
      "3    4\n",
      "4    5\n",
      "5    6\n",
      "dtype: int64\n"
     ]
    }
   ],
   "source": [
    "print(s)\n",
    "print(s.loc[:6])\n",
    "print(s.loc[2:5])"
   ]
  },
  {
   "cell_type": "code",
   "execution_count": 24,
   "id": "f0bb28df",
   "metadata": {},
   "outputs": [
    {
     "name": "stdout",
     "output_type": "stream",
     "text": [
      "a    5\n",
      "b    6\n",
      "dtype: int64\n"
     ]
    }
   ],
   "source": [
    "s=pa.Series([5,6,7,8],index=['a','b','c','d'])\n",
    "print(s.iloc[:2])#we give iloc whenever we define a particular indexing for the array\n",
    "#it exclusively uses natural indexing(0,1,2..) of the items"
   ]
  },
  {
   "cell_type": "code",
   "execution_count": 25,
   "id": "52e07a3b",
   "metadata": {},
   "outputs": [
    {
     "name": "stdout",
     "output_type": "stream",
     "text": [
      "a    5\n",
      "b    6\n",
      "c    7\n",
      "dtype: int64\n",
      "Series([], dtype: int64)\n"
     ]
    }
   ],
   "source": [
    "s=pa.Series([5,6,7,8],index=['a','b','c','d'])\n",
    "print(s.loc['a':'c'])\n",
    "print(s.loc['d':'b'])"
   ]
  },
  {
   "cell_type": "code",
   "execution_count": 28,
   "id": "5a737d18",
   "metadata": {},
   "outputs": [
    {
     "name": "stdout",
     "output_type": "stream",
     "text": [
      "Index(['a', 'b', 'c', 'd'], dtype='object')\n"
     ]
    }
   ],
   "source": [
    "print(s.index)"
   ]
  },
  {
   "cell_type": "code",
   "execution_count": 29,
   "id": "2469e2df",
   "metadata": {},
   "outputs": [
    {
     "name": "stdout",
     "output_type": "stream",
     "text": [
      "@    5\n",
      "#    6\n",
      "$    7\n",
      "%    8\n",
      "dtype: int64\n"
     ]
    }
   ],
   "source": [
    "s.index=['@',\"#\",\"$\",\"%\"]\n",
    "print(s)"
   ]
  },
  {
   "cell_type": "code",
   "execution_count": null,
   "id": "05de732e",
   "metadata": {},
   "outputs": [],
   "source": []
  }
 ],
 "metadata": {
  "kernelspec": {
   "display_name": "Python 3 (ipykernel)",
   "language": "python",
   "name": "python3"
  },
  "language_info": {
   "codemirror_mode": {
    "name": "ipython",
    "version": 3
   },
   "file_extension": ".py",
   "mimetype": "text/x-python",
   "name": "python",
   "nbconvert_exporter": "python",
   "pygments_lexer": "ipython3",
   "version": "3.9.17"
  }
 },
 "nbformat": 4,
 "nbformat_minor": 5
}
