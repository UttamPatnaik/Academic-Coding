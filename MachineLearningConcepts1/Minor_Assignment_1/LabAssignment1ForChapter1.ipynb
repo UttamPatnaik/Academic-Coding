{
 "cells": [
  {
   "cell_type": "markdown",
   "id": "182d342d",
   "metadata": {},
   "source": [
    "# LAB ASSIGNMENT-1"
   ]
  },
  {
   "cell_type": "markdown",
   "id": "ce1842b6",
   "metadata": {},
   "source": [
    "Question 1:Take marks as input (0–100). Use if-elif-else to print the grade:\n",
    "90–100 → A\n",
    "75–89 → B\n",
    "50–74 → C\n",
    "Below 50 → Fail"
   ]
  },
  {
   "cell_type": "code",
   "execution_count": 24,
   "id": "ef3e7d7d",
   "metadata": {},
   "outputs": [],
   "source": [
    "import numpy as np"
   ]
  },
  {
   "cell_type": "code",
   "execution_count": 1,
   "id": "924aaa23",
   "metadata": {},
   "outputs": [
    {
     "name": "stdout",
     "output_type": "stream",
     "text": [
      "Enter your total marks: 50\n",
      "Grade: C\n"
     ]
    }
   ],
   "source": [
    "#Answer\n",
    "TM=int(input(\"Enter your total marks: \"))\n",
    "if(TM>=90 and TM<=100):\n",
    "    print(\"Grade: A\")\n",
    "elif(TM>=75 and TM<=89):\n",
    "    print(\"Grade: B\")\n",
    "elif(TM>=50 and TM<=74):\n",
    "    print(\"Grade: C\")\n",
    "else:\n",
    "    print(\"Fail\"):"
   ]
  },
  {
   "cell_type": "markdown",
   "id": "89971290",
   "metadata": {},
   "source": [
    "Question 2: Accept a number from the user and use a while loop to find the sum of its digits."
   ]
  },
  {
   "cell_type": "code",
   "execution_count": 4,
   "id": "02cf43ef",
   "metadata": {},
   "outputs": [
    {
     "name": "stdout",
     "output_type": "stream",
     "text": [
      "Enter a number: 123\n",
      "The sum of digits of the number  123  is  6\n"
     ]
    }
   ],
   "source": [
    "#Answer\n",
    "n=int(input(\"Enter a number: \"))\n",
    "a=n\n",
    "s=0\n",
    "while(a>0):\n",
    "    d=a%10\n",
    "    s=s+d\n",
    "    a=a//10\n",
    "print(\"The sum of digits of the number \",n,\" is \",s)"
   ]
  },
  {
   "cell_type": "markdown",
   "id": "ad07ba8a",
   "metadata": {},
   "source": [
    "Question 3: Write a function is_prime(n) that returns True if a number is prime, otherwise False.\n",
    "Test it for multiple values."
   ]
  },
  {
   "cell_type": "code",
   "execution_count": 11,
   "id": "63b74dc4",
   "metadata": {},
   "outputs": [
    {
     "name": "stdout",
     "output_type": "stream",
     "text": [
      "Enter a number 12\n",
      "Not prime\n"
     ]
    }
   ],
   "source": [
    "#Answer\n",
    "def is_prime(n):\n",
    "    a=1\n",
    "    c=0\n",
    "    while(a<=n):\n",
    "        if(n%a==0):\n",
    "            c=c+1\n",
    "        a=a+1    \n",
    "    if(c==2):\n",
    "        return True\n",
    "    return False\n",
    "p=int(input(\"Enter a number \"))\n",
    "bo=is_prime(p)\n",
    "if(bo==True):\n",
    "    print(\"Prime\")\n",
    "else:\n",
    "    print(\"Not prime\")"
   ]
  },
  {
   "cell_type": "markdown",
   "id": "db900d86",
   "metadata": {},
   "source": [
    "Question 4: Define a function is_palindrome(word) that checks whether a string is a palindrome or\n",
    "not. Example: \"madam\" → Palindrome."
   ]
  },
  {
   "cell_type": "code",
   "execution_count": 23,
   "id": "1b946c94",
   "metadata": {},
   "outputs": [
    {
     "name": "stdout",
     "output_type": "stream",
     "text": [
      "Enter a word madam\n",
      "madam\n",
      "Palindrome Word\n"
     ]
    }
   ],
   "source": [
    "#Answer\n",
    "def is_palindrome(word):\n",
    "    s=\"\"\n",
    "    for a in word[::-1]:\n",
    "        s=s+a\n",
    "    print(s)\n",
    "    if(word==s):\n",
    "        print(\"Palindrome Word\")\n",
    "    else:\n",
    "        print(\"Not a Palindrome Word\")\n",
    "m=input(\"Enter a word \")\n",
    "is_palindrome(m)"
   ]
  },
  {
   "cell_type": "markdown",
   "id": "6071d0ca",
   "metadata": {},
   "source": [
    "Question 5: Create two 3×3 matrices and perform:\n",
    "a) Matrix multiplication\n",
    "b) Determinant of a matrix\n",
    "c) Inverse of a matrix (if possible)\n",
    "Verify that multiplying a matrix with its inverse gives an identity matrix."
   ]
  },
  {
   "cell_type": "code",
   "execution_count": 44,
   "id": "29e972a0",
   "metadata": {},
   "outputs": [
    {
     "name": "stdout",
     "output_type": "stream",
     "text": [
      "Matrix Multiplication of  [[7, 1, 4], [9, 5, 3], [2, 8, 6]]  and  [[2, 8, 1], [5, 4, 9], [3, 6, 7]]  is: \n",
      " [[ 31  84  44]\n",
      " [ 52 110  75]\n",
      " [ 62  84 116]]\n",
      "Determinant of  [[7, 1, 4], [9, 5, 3], [2, 8, 6]]  is:  242.00000000000009\n",
      "Determinant of  [[2, 8, 1], [5, 4, 9], [3, 6, 7]]  is:  -97.99999999999996\n",
      "Inverse of the matrix  [[7, 1, 4], [9, 5, 3], [2, 8, 6]]  is: \n",
      " [[ 0.02479339  0.10743802 -0.07024793]\n",
      " [-0.19834711  0.14049587  0.06198347]\n",
      " [ 0.25619835 -0.2231405   0.10743802]]\n",
      "Inverse of the matrix  [[2, 8, 1], [5, 4, 9], [3, 6, 7]]  is: \n",
      " [[ 0.26530612  0.51020408 -0.69387755]\n",
      " [ 0.08163265 -0.1122449   0.13265306]\n",
      " [-0.18367347 -0.12244898  0.32653061]]\n"
     ]
    }
   ],
   "source": [
    "#Answer\n",
    "ar1=[[ 7,  1,  4],\n",
    " [ 9,  5,  3],\n",
    " [ 2,  8,  6]]\n",
    "ar2=[[ 2,  8,  1],\n",
    " [ 5,  4,  9],\n",
    " [ 3,  6,  7]]\n",
    "ar3=np.dot(ar1,ar2)\n",
    "dt1=np.linalg.det(ar1)\n",
    "dt2=np.linalg.det(ar2)\n",
    "print(\"Matrix Multiplication of \",ar1,\" and \",ar2,\" is: \\n\",ar3)\n",
    "print(\"Determinant of \",ar1,\" is: \",dt1)\n",
    "print(\"Determinant of \",ar2,\" is: \",dt2)\n",
    "if(dt1==0):\n",
    "    print(\"Inverse not possible for matrix\",ar1)\n",
    "else:\n",
    "    iv1=np.linalg.inv(ar1)\n",
    "    print(\"Inverse of the matrix \",ar1,\" is: \\n\",iv1)\n",
    "if(dt2==0):\n",
    "    print(\"Inverse not possible for matrix\",ar2)\n",
    "else:\n",
    "    iv2=np.linalg.inv(ar2)\n",
    "    print(\"Inverse of the matrix \",ar2,\" is: \\n\",iv2)"
   ]
  },
  {
   "cell_type": "markdown",
   "id": "e3acf862",
   "metadata": {},
   "source": [
    "Question 6: Generate two NumPy arrays of 10 random integers each. Perform element-wise \n",
    "comparison (>, <, ==). Count how many times values in the first array are greater than \n",
    "the second.  "
   ]
  },
  {
   "cell_type": "code",
   "execution_count": 45,
   "id": "df65d882",
   "metadata": {},
   "outputs": [
    {
     "name": "stdout",
     "output_type": "stream",
     "text": [
      "First Array:  [4 0 4 2 6 3 9 4 1 8]\n",
      "Second Array:  [7 7 8 1 0 6 8 7 1 6]\n",
      "No. of times, first array has elements greater then second array:  4\n"
     ]
    }
   ],
   "source": [
    "#Answer\n",
    "import random\n",
    "arr1=[]\n",
    "arr2=[]\n",
    "count=0\n",
    "for a in range(0,10):\n",
    "    arr1.append(random.randint(0,9))\n",
    "    arr2.append(random.randint(0,9))\n",
    "npa1=np.array(arr1)\n",
    "npa2=np.array(arr2)\n",
    "print(\"First Array: \",npa1)\n",
    "print(\"Second Array: \",npa2)\n",
    "'''for i in range(0,10):\n",
    "    if(arr1[i]>arr2[i]):\n",
    "        count=count+1'''\n",
    "Grt_Elem=npa1>npa2\n",
    "count=np.sum(Grt_Elem)\n",
    "print(\"No. of times, first array has elements greater then second array: \",count)"
   ]
  },
  {
   "cell_type": "markdown",
   "id": "d16c4b53",
   "metadata": {},
   "source": [
    "Question 7: Suppose you have exam marks of 10 students stored in a Python list. Convert it into a\n",
    "NumPy array and compute:\n",
    "a) Average marks of the class\n",
    "b) Students who scored above average"
   ]
  },
  {
   "cell_type": "code",
   "execution_count": 3,
   "id": "74749ff9",
   "metadata": {},
   "outputs": [
    {
     "name": "stdout",
     "output_type": "stream",
     "text": [
      "89\n",
      "95\n",
      "91\n",
      "87\n",
      "97\n"
     ]
    }
   ],
   "source": [
    "#Answer\n",
    "import numpy as np\n",
    "arr1=[89,78,95,91,87,85,80,75,97,73]\n",
    "npa1=np.array(arr1)\n",
    "avg=np.mean(npa1)\n",
    "print(\"Students who scored above average\")\n",
    "for i in arr1:\n",
    "    if(i>avg):\n",
    "        print(i)"
   ]
  },
  {
   "cell_type": "markdown",
   "id": "a4c56470-1b31-4c48-810a-f8bf5dc73244",
   "metadata": {},
   "source": [
    "Question 8: Create a 4×4 NumPy array with values from 1 to 16. Perform the following: \n",
    "a) Extract the second row \n",
    "b) Extract the third column \n",
    "c) Slice the sub-matrix of shape (2×2) from the bottom-right corner"
   ]
  },
  {
   "cell_type": "code",
   "execution_count": 7,
   "id": "c1cf34c8-fc45-440a-a190-6ac8a92157df",
   "metadata": {},
   "outputs": [
    {
     "name": "stdout",
     "output_type": "stream",
     "text": [
      "4X4 NumPy Array:  [[ 1  2  3  4]\n",
      " [ 5  6  7  8]\n",
      " [ 9 10 11 12]\n",
      " [13 14 15 16]]\n",
      "Second Row:  [5 6 7 8]\n",
      "Third Column:  [ 3  7 11 15]\n"
     ]
    }
   ],
   "source": [
    "#Answer\n",
    "da=np.array([[1,2,3,4],[5,6,7,8],[9,10,11,12],[13,14,15,16]])\n",
    "print(\"4X4 NumPy Array: \",da)\n",
    "print(\"Second Row: \",da[1])\n",
    "print(\"Third Column: \",da[:, 2])\n"
   ]
  },
  {
   "cell_type": "markdown",
   "id": "ff8f04ed-8210-40a8-8fa6-be162e6cf08e",
   "metadata": {},
   "source": [
    "Question 9: Create a (3×4) array with consecutive numbers from 1 to 12. Demonstrate the \n",
    "difference between reshape() and ravel(). "
   ]
  },
  {
   "cell_type": "code",
   "execution_count": 6,
   "id": "136652d9-eb63-4a35-96c2-2f7434366cdd",
   "metadata": {},
   "outputs": [
    {
     "name": "stdout",
     "output_type": "stream",
     "text": [
      "[[ 1  2  3]\n",
      " [ 4  5  6]\n",
      " [ 7  8  9]\n",
      " [10 11 12]]\n",
      "[ 1  2  3  4  5  6  7  8  9 10 11 12]\n"
     ]
    }
   ],
   "source": [
    "da=np.array([[1,2,3,4],[5,6,7,8],[9,10,11,12]])\n",
    "da1=da.reshape(4,3)\n",
    "da2=da.ravel()\n",
    "print(da1)\n",
    "print(da2)"
   ]
  },
  {
   "cell_type": "markdown",
   "id": "82bacf4a-65ba-461a-acb1-033884b278f9",
   "metadata": {},
   "source": [
    "Question 10: Simulate rolling a six-sided dice 1,000 times using NumPy’s random.randint(). Count \n",
    "the frequency of each outcome and display it as a dictionary (face → count)."
   ]
  },
  {
   "cell_type": "code",
   "execution_count": null,
   "id": "5b088063-017c-4e62-9efd-6ac81af21351",
   "metadata": {},
   "outputs": [],
   "source": [
    "import random as r\n"
   ]
  }
 ],
 "metadata": {
  "kernelspec": {
   "display_name": "Python 3 (ipykernel)",
   "language": "python",
   "name": "python3"
  },
  "language_info": {
   "codemirror_mode": {
    "name": "ipython",
    "version": 3
   },
   "file_extension": ".py",
   "mimetype": "text/x-python",
   "name": "python",
   "nbconvert_exporter": "python",
   "pygments_lexer": "ipython3",
   "version": "3.13.5"
  }
 },
 "nbformat": 4,
 "nbformat_minor": 5
}
