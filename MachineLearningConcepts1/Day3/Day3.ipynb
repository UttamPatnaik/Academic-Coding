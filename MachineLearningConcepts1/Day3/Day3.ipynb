{
 "cells": [
  {
   "cell_type": "code",
   "execution_count": 5,
   "id": "ce6afeb3-44e0-4c5a-bdd7-40af85494bc6",
   "metadata": {},
   "outputs": [
    {
     "name": "stdout",
     "output_type": "stream",
     "text": [
      "499999500000\n",
      "499999500000\n",
      "11.1 ms ± 897 μs per loop (mean ± std. dev. of 7 runs, 100 loops each)\n",
      "751 μs ± 37.3 μs per loop (mean ± std. dev. of 7 runs, 1,000 loops each)\n"
     ]
    }
   ],
   "source": [
    "import numpy as np\n",
    "x=list(range(1000000))\n",
    "y=np.array(x)\n",
    "print(sum(x))\n",
    "print(np.sum(y))\n",
    "%timeit sum(x)\n",
    "%timeit np.sum(y)"
   ]
  },
  {
   "cell_type": "code",
   "execution_count": 6,
   "id": "a35aea8f-2048-4bd8-91c1-d70ca18df607",
   "metadata": {},
   "outputs": [
    {
     "name": "stdout",
     "output_type": "stream",
     "text": [
      "['1' 'hello']\n"
     ]
    }
   ],
   "source": [
    "data=np.array([1,\"hello\"])\n",
    "print(data)"
   ]
  },
  {
   "cell_type": "code",
   "execution_count": 7,
   "id": "d30c2416-c46f-4377-8e01-0003c1423cae",
   "metadata": {},
   "outputs": [
    {
     "name": "stdout",
     "output_type": "stream",
     "text": [
      "[ 1.  -0.5  7.9]\n"
     ]
    }
   ],
   "source": [
    "data=np.array([1,-0.5,7.9])\n",
    "print(data)"
   ]
  },
  {
   "cell_type": "code",
   "execution_count": 8,
   "id": "09bfd618-af41-4118-a319-9db022226eb5",
   "metadata": {},
   "outputs": [
    {
     "name": "stdout",
     "output_type": "stream",
     "text": [
      "[[1 2 3]\n",
      " [4 5 6]\n",
      " [7 8 9]]\n"
     ]
    }
   ],
   "source": [
    "da=np.array([[1,2,3],[4,5,6],[7,8,9]])\n",
    "print(da)"
   ]
  },
  {
   "cell_type": "code",
   "execution_count": 9,
   "id": "5510e8b4-4f93-4489-9689-144a309c3c2d",
   "metadata": {},
   "outputs": [
    {
     "name": "stdout",
     "output_type": "stream",
     "text": [
      "(3, 3)\n",
      "2\n"
     ]
    }
   ],
   "source": [
    "print(np.shape(da))\n",
    "print(np.ndim(da))"
   ]
  },
  {
   "cell_type": "code",
   "execution_count": 10,
   "id": "b4f548d2-8daf-46a5-bf9a-5f5e4ee28c18",
   "metadata": {},
   "outputs": [
    {
     "name": "stdout",
     "output_type": "stream",
     "text": [
      "[1 2 3]\n"
     ]
    }
   ],
   "source": [
    "print(da[0])"
   ]
  },
  {
   "cell_type": "code",
   "execution_count": 11,
   "id": "a02e1137-efc6-4fd2-aded-cfead6372650",
   "metadata": {},
   "outputs": [
    {
     "name": "stdout",
     "output_type": "stream",
     "text": [
      "5\n"
     ]
    }
   ],
   "source": [
    "print(da[1,1])"
   ]
  },
  {
   "cell_type": "code",
   "execution_count": 12,
   "id": "13b2a996-ac75-444e-acdf-a3f453b6e003",
   "metadata": {},
   "outputs": [
    {
     "name": "stdout",
     "output_type": "stream",
     "text": [
      "(3,)\n"
     ]
    }
   ],
   "source": [
    "print(np.shape(data))"
   ]
  },
  {
   "cell_type": "code",
   "execution_count": 13,
   "id": "85b86729-6155-4e14-bf50-a93ed180498a",
   "metadata": {},
   "outputs": [
    {
     "name": "stdout",
     "output_type": "stream",
     "text": [
      "1\n"
     ]
    }
   ],
   "source": [
    "print(np.ndim(data))"
   ]
  },
  {
   "cell_type": "code",
   "execution_count": 14,
   "id": "8e5a1a17-5d6e-4f29-8cca-f7b64ef2b331",
   "metadata": {},
   "outputs": [
    {
     "name": "stdout",
     "output_type": "stream",
     "text": [
      "(3, 3)\n"
     ]
    }
   ],
   "source": [
    "print(da.shape)"
   ]
  },
  {
   "cell_type": "code",
   "execution_count": 15,
   "id": "13dd750a-d9e6-45c7-a39c-01e451bb850b",
   "metadata": {},
   "outputs": [
    {
     "name": "stdout",
     "output_type": "stream",
     "text": [
      "2\n"
     ]
    }
   ],
   "source": [
    "print(da.ndim)"
   ]
  },
  {
   "cell_type": "code",
   "execution_count": 16,
   "id": "fdbea39b-25b5-4e33-a329-2a2a68becb0c",
   "metadata": {},
   "outputs": [
    {
     "name": "stdout",
     "output_type": "stream",
     "text": [
      "(1, 3)\n",
      "2\n"
     ]
    }
   ],
   "source": [
    "arr=np.array([[1,2,3]])\n",
    "print(arr.shape)\n",
    "print(arr.ndim)"
   ]
  },
  {
   "cell_type": "code",
   "execution_count": 17,
   "id": "54b56cec-1a99-4ade-b06c-cb0e5dfb1e01",
   "metadata": {},
   "outputs": [
    {
     "name": "stdout",
     "output_type": "stream",
     "text": [
      "(2, 2, 3)\n",
      "3\n",
      "12\n"
     ]
    }
   ],
   "source": [
    "arre=np.array([[[1,2,3],[4,5,6]],[[7,8,9],[10,11,12]]])\n",
    "print(arre.shape)\n",
    "print(arre.ndim)\n",
    "print(arre.size)\n",
    "#2X2X3=12(All entries of shape, when multiplied gives you the size)"
   ]
  },
  {
   "cell_type": "code",
   "execution_count": 18,
   "id": "3d47a9f7-f20f-4aa2-bca3-6364130977c3",
   "metadata": {},
   "outputs": [
    {
     "name": "stdout",
     "output_type": "stream",
     "text": [
      "[0. 0. 0.]\n"
     ]
    }
   ],
   "source": [
    "x=np.zeros(3)\n",
    "print(x)"
   ]
  },
  {
   "cell_type": "code",
   "execution_count": 19,
   "id": "ea765f49-c842-4d6f-b580-19be41c9f427",
   "metadata": {},
   "outputs": [
    {
     "name": "stdout",
     "output_type": "stream",
     "text": [
      "[[0. 0. 0.]\n",
      " [0. 0. 0.]]\n"
     ]
    }
   ],
   "source": [
    "y=np.zeros([2,3])\n",
    "print(y)"
   ]
  },
  {
   "cell_type": "code",
   "execution_count": 20,
   "id": "8811c0d9-bf6e-4163-8fa7-c00fc349c285",
   "metadata": {},
   "outputs": [
    {
     "name": "stdout",
     "output_type": "stream",
     "text": [
      "[[[0. 0. 0.]\n",
      "  [0. 0. 0.]]\n",
      "\n",
      " [[0. 0. 0.]\n",
      "  [0. 0. 0.]]]\n"
     ]
    }
   ],
   "source": [
    "z=np.zeros([2,2,3])\n",
    "print(z)"
   ]
  },
  {
   "cell_type": "code",
   "execution_count": 21,
   "id": "98047f24-ba42-4612-b115-c78d3a311ac3",
   "metadata": {},
   "outputs": [
    {
     "name": "stdout",
     "output_type": "stream",
     "text": [
      "[8.55270055e-312 0.00000000e+000]\n"
     ]
    }
   ],
   "source": [
    "xy=np.empty(2)\n",
    "print(xy)"
   ]
  },
  {
   "cell_type": "code",
   "execution_count": 22,
   "id": "08ec243d-7469-4b58-8c03-7e644522de1d",
   "metadata": {},
   "outputs": [
    {
     "name": "stdout",
     "output_type": "stream",
     "text": [
      "[[[6.23042070e-307 1.89146896e-307 1.37961302e-306 6.89805830e-307]\n",
      "  [1.33511562e-306 8.01097889e-307 1.78020169e-306 7.56601165e-307]\n",
      "  [1.02359984e-306 1.33510679e-306 2.22522597e-306 8.01097889e-307]]\n",
      "\n",
      " [[1.42417629e-306 8.45593934e-307 6.89805151e-307 1.06811354e-306]\n",
      "  [6.89807188e-307 9.34609111e-307 1.42419530e-306 1.42418172e-306]\n",
      "  [1.37961641e-306 9.45699679e-308 2.22522596e-306 2.10077583e-312]]]\n"
     ]
    }
   ],
   "source": [
    "xz=np.empty([2,3,4])\n",
    "print(xz)"
   ]
  },
  {
   "cell_type": "code",
   "execution_count": 23,
   "id": "29c4593c-5f40-41f1-86ce-347f8ed83936",
   "metadata": {},
   "outputs": [
    {
     "name": "stdout",
     "output_type": "stream",
     "text": [
      "[[0. 0. 0. 0. 0. 0.]\n",
      " [0. 0. 0. 0. 0. 0.]\n",
      " [0. 0. 0. 0. 0. 0.]]\n"
     ]
    }
   ],
   "source": [
    "yz=np.zeros([3,6])\n",
    "print(yz)"
   ]
  },
  {
   "cell_type": "code",
   "execution_count": 24,
   "id": "34d8e25a-49fc-4590-8ffd-15d5ada99a42",
   "metadata": {},
   "outputs": [
    {
     "name": "stdout",
     "output_type": "stream",
     "text": [
      "[[0. 0. 0. 0. 0. 0.]\n",
      " [0. 0. 0. 0. 0. 0.]\n",
      " [0. 0. 0. 0. 0. 0.]]\n"
     ]
    }
   ],
   "source": [
    "yz=np.empty([3,6])\n",
    "print(yz)#if there's an array that contains some elements in an array of the same size, the empty function provides that array without giving out array containing random values"
   ]
  },
  {
   "cell_type": "code",
   "execution_count": 25,
   "id": "ff1ab104-b3a2-41fb-9428-71b5e3cfd31d",
   "metadata": {},
   "outputs": [
    {
     "name": "stdout",
     "output_type": "stream",
     "text": [
      "[[[1. 1. 1.]\n",
      "  [1. 1. 1.]]]\n"
     ]
    }
   ],
   "source": [
    "zd=np.ones([1,2,3])\n",
    "print(zd)"
   ]
  },
  {
   "cell_type": "code",
   "execution_count": 26,
   "id": "87c44036-e7ff-4c84-bacb-1e51b244e089",
   "metadata": {},
   "outputs": [
    {
     "name": "stdout",
     "output_type": "stream",
     "text": [
      "[0 1 2 3 4]\n"
     ]
    }
   ],
   "source": [
    "md=np.arange(5)\n",
    "print(md)"
   ]
  },
  {
   "cell_type": "code",
   "execution_count": 27,
   "id": "3fd2ce9f-96aa-41b8-9410-c53a6afcd31d",
   "metadata": {},
   "outputs": [
    {
     "name": "stdout",
     "output_type": "stream",
     "text": [
      "[1 2 3 4]\n"
     ]
    }
   ],
   "source": [
    "md=np.arange(1,5)\n",
    "print(md)"
   ]
  },
  {
   "cell_type": "code",
   "execution_count": 28,
   "id": "0d10cc44-1d2e-4a4e-b263-838179dad031",
   "metadata": {},
   "outputs": [
    {
     "name": "stdout",
     "output_type": "stream",
     "text": [
      "[1 3 5 7 9]\n"
     ]
    }
   ],
   "source": [
    "md=np.arange(1,10,2)\n",
    "print(md)"
   ]
  },
  {
   "cell_type": "code",
   "execution_count": 29,
   "id": "d10866a3-7a42-4f78-82e4-20a929dc949c",
   "metadata": {},
   "outputs": [
    {
     "name": "stdout",
     "output_type": "stream",
     "text": [
      "[1. 3. 5. 7. 9.]\n"
     ]
    }
   ],
   "source": [
    "ms=np.arange(1,10,2,dtype=float)\n",
    "print(ms)"
   ]
  },
  {
   "cell_type": "code",
   "execution_count": 30,
   "id": "c9a8f305-0977-4af3-81de-80ce7c1c4bfa",
   "metadata": {},
   "outputs": [
    {
     "name": "stdout",
     "output_type": "stream",
     "text": [
      "[10. 11. 12. 13. 14. 15. 16. 17. 18. 19. 20.]\n"
     ]
    }
   ],
   "source": [
    "print(np.linspace(10,20,11)) \n",
    "#we can directly print np function without defining the array\n",
    "#length of sub interval=(stop val-start val)/((no of elements to be generated)-1)\n",
    "#provides the array inclusive of the last element"
   ]
  },
  {
   "cell_type": "code",
   "execution_count": 31,
   "id": "87da8b5d-9a70-41b7-b2b8-7310227bfbd1",
   "metadata": {},
   "outputs": [
    {
     "name": "stdout",
     "output_type": "stream",
     "text": [
      "[['a' 'a' 'a']\n",
      " ['a' 'a' 'a']]\n"
     ]
    }
   ],
   "source": [
    "print(np.full((2,3),'a'))#provides the constant array of the defined shape"
   ]
  },
  {
   "cell_type": "code",
   "execution_count": 32,
   "id": "cab8af81-eddd-4a55-8c84-a4c94112f1e6",
   "metadata": {},
   "outputs": [
    {
     "name": "stdout",
     "output_type": "stream",
     "text": [
      "[[1. 0. 0.]\n",
      " [0. 1. 0.]\n",
      " [0. 0. 1.]]\n"
     ]
    }
   ],
   "source": [
    "print(np.identity(3))"
   ]
  },
  {
   "cell_type": "code",
   "execution_count": 33,
   "id": "487e8cf6-1b9b-4fe3-b4c4-56925d11ccbb",
   "metadata": {},
   "outputs": [
    {
     "name": "stdout",
     "output_type": "stream",
     "text": [
      "[[1. 0. 0.]\n",
      " [0. 1. 0.]\n",
      " [0. 0. 1.]]\n"
     ]
    }
   ],
   "source": [
    "print(np.eye(3))#similar to identity()"
   ]
  },
  {
   "cell_type": "code",
   "execution_count": 34,
   "id": "0c1cfc75-28a0-4cad-b12a-2a867a12bb3d",
   "metadata": {},
   "outputs": [
    {
     "name": "stdout",
     "output_type": "stream",
     "text": [
      "[[0. 0. 1.]\n",
      " [0. 0. 0.]\n",
      " [0. 0. 0.]]\n"
     ]
    }
   ],
   "source": [
    "print(np.eye(3, k=2))"
   ]
  },
  {
   "cell_type": "code",
   "execution_count": 35,
   "id": "7f2e9ebc-f078-4059-a2d0-e2ebe7968cdc",
   "metadata": {},
   "outputs": [
    {
     "name": "stdout",
     "output_type": "stream",
     "text": [
      "[[0. 0. 0.]\n",
      " [0. 0. 0.]\n",
      " [1. 0. 0.]]\n"
     ]
    }
   ],
   "source": [
    "print(np.eye(3, k=-2))"
   ]
  },
  {
   "cell_type": "code",
   "execution_count": 36,
   "id": "6b7cf3e5-55c4-4e1d-a472-14a6905706dd",
   "metadata": {},
   "outputs": [
    {
     "name": "stdout",
     "output_type": "stream",
     "text": [
      "[[0. 0. 0.]\n",
      " [0. 0. 0.]\n",
      " [0. 0. 0.]]\n"
     ]
    }
   ],
   "source": [
    "print(np.eye(3, k=4))"
   ]
  },
  {
   "cell_type": "code",
   "execution_count": 37,
   "id": "1e2eab7e-3b5d-4c22-a325-e8612bc00a0c",
   "metadata": {},
   "outputs": [
    {
     "name": "stdout",
     "output_type": "stream",
     "text": [
      "[1. 2. 3.]\n"
     ]
    }
   ],
   "source": [
    "print(np.array([1,2,3],dtype=np.float64))"
   ]
  },
  {
   "cell_type": "code",
   "execution_count": 38,
   "id": "754ea268-11ce-4cad-904d-bf6537ee0c51",
   "metadata": {},
   "outputs": [
    {
     "name": "stdout",
     "output_type": "stream",
     "text": [
      "[4 5 6] now converted to [4. 5. 6.]\n",
      "Type of 2nd array:  float64\n"
     ]
    }
   ],
   "source": [
    "ar1=np.array([4,5,6])\n",
    "ar2=ar1.astype(np.float64)\n",
    "print(ar1,\"now converted to\",ar2)\n",
    "print(\"Type of 2nd array: \",ar2.dtype)"
   ]
  },
  {
   "cell_type": "code",
   "execution_count": 39,
   "id": "54b75346-0bb8-489f-8b32-c57353f1c8a0",
   "metadata": {},
   "outputs": [
    {
     "name": "stdout",
     "output_type": "stream",
     "text": [
      "[4.5 6. ] now converted to [4 6]\n",
      "Type of 2nd array:  int32\n"
     ]
    }
   ],
   "source": [
    "ar1=np.array([4.5,6])\n",
    "ar2=ar1.astype(np.int32)\n",
    "print(ar1,\"now converted to\",ar2)\n",
    "print(\"Type of 2nd array: \",ar2.dtype)"
   ]
  },
  {
   "cell_type": "code",
   "execution_count": 40,
   "id": "b50d90cf-1382-4976-875b-5e3197a954bb",
   "metadata": {},
   "outputs": [
    {
     "name": "stdout",
     "output_type": "stream",
     "text": [
      "[[1 2 3]]\n",
      "(1, 3)\n"
     ]
    }
   ],
   "source": [
    "ag1=np.array([[1,2,3]])\n",
    "print(ag1)\n",
    "print(ag1.shape)"
   ]
  },
  {
   "cell_type": "code",
   "execution_count": 41,
   "id": "ab45e622-6026-4ab1-9538-0b7747223ffe",
   "metadata": {},
   "outputs": [
    {
     "name": "stdout",
     "output_type": "stream",
     "text": [
      "[[1]\n",
      " [2]\n",
      " [3]]\n",
      "(3, 1)\n"
     ]
    }
   ],
   "source": [
    "ag2=ag1.reshape(3,1)\n",
    "print(ag2)\n",
    "print(ag2.shape)"
   ]
  },
  {
   "cell_type": "code",
   "execution_count": 42,
   "id": "af018736-2b1a-4c3b-a4f7-e3b0dd7a66d0",
   "metadata": {},
   "outputs": [
    {
     "name": "stdout",
     "output_type": "stream",
     "text": [
      "[[1 2 3]]\n",
      "(1, 3)\n"
     ]
    }
   ],
   "source": [
    "ag3=np.array([[1,2,3],[4,5,6]])\n",
    "print(ag1)\n",
    "print(ag1.shape)"
   ]
  },
  {
   "cell_type": "code",
   "execution_count": 43,
   "id": "7443ef93-177f-4a64-b619-0baa6c069489",
   "metadata": {},
   "outputs": [
    {
     "name": "stdout",
     "output_type": "stream",
     "text": [
      "[[1 2]\n",
      " [3 4]\n",
      " [5 6]]\n",
      "(3, 2)\n"
     ]
    }
   ],
   "source": [
    "ag4=ag3.reshape(3,2)\n",
    "print(ag4)\n",
    "print(ag4.shape)"
   ]
  },
  {
   "cell_type": "code",
   "execution_count": 44,
   "id": "fc4b2006-08b0-41dd-9a79-2aca670da188",
   "metadata": {},
   "outputs": [
    {
     "ename": "ValueError",
     "evalue": "cannot reshape array of size 6 into shape (3,)",
     "output_type": "error",
     "traceback": [
      "\u001b[1;31m---------------------------------------------------------------------------\u001b[0m",
      "\u001b[1;31mValueError\u001b[0m                                Traceback (most recent call last)",
      "Cell \u001b[1;32mIn[44], line 1\u001b[0m\n\u001b[1;32m----> 1\u001b[0m ag5\u001b[38;5;241m=\u001b[39mag3\u001b[38;5;241m.\u001b[39mreshape(\u001b[38;5;241m3\u001b[39m)\n\u001b[0;32m      2\u001b[0m \u001b[38;5;28mprint\u001b[39m(ag5)\n",
      "\u001b[1;31mValueError\u001b[0m: cannot reshape array of size 6 into shape (3,)"
     ]
    }
   ],
   "source": [
    "ag5=ag3.reshape(3)\n",
    "print(ag5)"
   ]
  },
  {
   "cell_type": "code",
   "execution_count": null,
   "id": "b128b399-5264-4a9b-a1b0-6e939e245bc6",
   "metadata": {},
   "outputs": [],
   "source": [
    "ag6=ag3.reshape(6,1)\n",
    "print(ag6)"
   ]
  },
  {
   "cell_type": "code",
   "execution_count": null,
   "id": "33a66f5f-05a2-4804-95cd-6115bb16ccb6",
   "metadata": {},
   "outputs": [],
   "source": [
    "ag6=ag3.reshape(6,1,1)\n",
    "print(ag6)"
   ]
  },
  {
   "cell_type": "code",
   "execution_count": null,
   "id": "b1a217cc-235e-4142-9249-39cb211863f2",
   "metadata": {},
   "outputs": [],
   "source": [
    "ag7=ag3.reshape(2,3,1,1)\n",
    "print(ag7)"
   ]
  },
  {
   "cell_type": "code",
   "execution_count": null,
   "id": "94093919-aacf-4133-94cf-7ff1b240d6f7",
   "metadata": {},
   "outputs": [],
   "source": [
    "ag8=ag3.ravel()\n",
    "print(ag8)"
   ]
  },
  {
   "cell_type": "code",
   "execution_count": null,
   "id": "967e27ee-876f-42fd-a24c-fd7c458c6b06",
   "metadata": {},
   "outputs": [],
   "source": [
    "ato1=np.array([[1,2,3],[4,5,6]])\n",
    "ato2=np.array([[7,8,9],[10,11,12]])\n",
    "print(ato1+ato1)\n",
    "print(ato1-ato1)\n",
    "print(ato1*ato2)#this multiplication doesnt follow the general matrix multiplication rule\n",
    "print(ato1*7)\n",
    "print(ato1**2)\n",
    "print(2**ato1)\n",
    "print(7/ato1)"
   ]
  },
  {
   "cell_type": "code",
   "execution_count": null,
   "id": "1dbc27c0-e936-45e8-8d81-ba824753dc10",
   "metadata": {},
   "outputs": [],
   "source": [
    "ato1>ato2"
   ]
  },
  {
   "cell_type": "code",
   "execution_count": null,
   "id": "53a0d5a4-7410-441d-a0cc-bf159d2b1f85",
   "metadata": {},
   "outputs": [],
   "source": [
    "ato1<ato2"
   ]
  },
  {
   "cell_type": "code",
   "execution_count": null,
   "id": "53bbd66c-fe79-45f1-ba9f-a96eac01f822",
   "metadata": {},
   "outputs": [],
   "source": [
    "ato1==ato1"
   ]
  },
  {
   "cell_type": "code",
   "execution_count": null,
   "id": "7a5ee8bf-a5fd-4c34-b2bb-f2fef6080bcb",
   "metadata": {},
   "outputs": [],
   "source": [
    "#we can also calculate number of trues or falses"
   ]
  }
 ],
 "metadata": {
  "kernelspec": {
   "display_name": "Python 3 (ipykernel)",
   "language": "python",
   "name": "python3"
  },
  "language_info": {
   "codemirror_mode": {
    "name": "ipython",
    "version": 3
   },
   "file_extension": ".py",
   "mimetype": "text/x-python",
   "name": "python",
   "nbconvert_exporter": "python",
   "pygments_lexer": "ipython3",
   "version": "3.13.5"
  }
 },
 "nbformat": 4,
 "nbformat_minor": 5
}
