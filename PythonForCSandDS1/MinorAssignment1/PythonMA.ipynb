{
 "cells": [
  {
   "cell_type": "markdown",
   "id": "6c621589",
   "metadata": {},
   "source": [
    "# Python for Computer Science and Data Science 1 (CSE 3651)\n",
    "\n",
    "## MINOR ASSIGNMENT-1: INTRODUCTION TO PYTHON PROGRAMMING AND BASICS"
   ]
  },
  {
   "cell_type": "code",
   "execution_count": null,
   "id": "b21e1d73",
   "metadata": {},
   "outputs": [],
   "source": [
    "'''1. Which of the following statements is true about Python variables?\n",
    " a. Variable names can start with a number.\n",
    " b. Variables must be declared with their data types.\n",
    " c. Python variables do not need to be declared before use.\n",
    " d. Variable names can contain spaces.'''\n",
    "\n",
    "#c.Python variables do not need to be declared before use."
   ]
  },
  {
   "cell_type": "code",
   "execution_count": null,
   "id": "6b5d8fe0",
   "metadata": {},
   "outputs": [],
   "source": [
    "''' 2. As a follow-up of Q. 1., which of the following is a correct variable name in Python?\n",
    " a. 1variable\n",
    " b. variable_1\n",
    " c. variable-1\n",
    " d. variable 1'''\n",
    "\n",
    "#b.variable_1"
   ]
  },
  {
   "cell_type": "code",
   "execution_count": null,
   "id": "4c13470b",
   "metadata": {},
   "outputs": [],
   "source": [
    "''' 3. Mention 2 ways by which you can apply comments in Python.'''\n",
    "\n",
    "#1.Using '#' for single comments\n",
    "#2.Using ''' ''' for multiline comments"
   ]
  },
  {
   "cell_type": "code",
   "execution_count": null,
   "id": "c4d84254",
   "metadata": {},
   "outputs": [],
   "source": [
    "''' 4. What is the difference between the input() function and the print() function in Python'''\n",
    "\n",
    "# The input() function is used to take input from the user. It always returns the input as a string.\n",
    "# The print() function is used to display output on the screen. It can display text, numbers, variables, and expressions."
   ]
  },
  {
   "cell_type": "code",
   "execution_count": null,
   "id": "cbad6eab",
   "metadata": {},
   "outputs": [],
   "source": [
    "'''5. How do you convert the string '123' to an integer in Python?\n",
    " a. str('123')\n",
    " b. int(123)\n",
    " c. int('123') \n",
    " d. float('123') '''\n",
    "\n",
    "#c.int('123)"
   ]
  },
  {
   "cell_type": "code",
   "execution_count": null,
   "id": "20079694",
   "metadata": {},
   "outputs": [],
   "source": [
    "'''6. Differentiate between the following operators:\n",
    " a. = and ==\n",
    " b. / and %\n",
    " c. / and //\n",
    " d. * and **\n",
    " If there is no difference, then mention why, and if there is a difference, then justify with examples.'''\n",
    "\n",
    "'''\n",
    "a. = is an assignment operator used for assigning values to the variables. Example: a=2,ch='a'.\n",
    "   == is an relational operator that is used to compare two values based on equality. Example: print(1=='1') # Output: False.\n",
    "b. / is an arithmetic operator used for finding the quotient between 2 numbers. Example: 7 / 3   # Output: 2.3333333333333335 .\n",
    "   % is an arithmetic operator used for finding the remainder between 2 numbers. Example: 7 % 3   # Output: 1.\n",
    "c. / is an arithmetic operator used for finding the quotient between 2 numbers. Example: 7 / 3   # Output: 2.3333333333333335 .\n",
    "   // is an arithmetic operator used for finding the quotient between 2 numbers using floor division. Example: 7 // 3   # Output: 2.\n",
    "d. * is an arithmetic operator used for finding the product between 2 numbers. Example: 2*4=8.\n",
    "   ** is an arithmetic operator used for finding one number raised to the power of another number. Example: 2**4=16.\n",
    "'''\n"
   ]
  },
  {
   "cell_type": "code",
   "execution_count": 2,
   "id": "8c106b32",
   "metadata": {},
   "outputs": [
    {
     "name": "stdin",
     "output_type": "stream",
     "text": [
      "Enter a: 40\n"
     ]
    },
    {
     "name": "stdout",
     "output_type": "stream",
     "text": [
      "30\n"
     ]
    }
   ],
   "source": [
    "''' 7. What is the output of the following Python code?'''\n",
    "\n",
    "a=int(input(\"Enter a:\"))\n",
    "a=20\n",
    "b=10\n",
    "print(a+b)"
   ]
  },
  {
   "cell_type": "code",
   "execution_count": 6,
   "id": "1bb6dd4d",
   "metadata": {},
   "outputs": [
    {
     "name": "stdout",
     "output_type": "stream",
     "text": [
      "nananananananananananananananana Batman\n"
     ]
    }
   ],
   "source": [
    "'''8. What is the output of the following Python code? '''\n",
    "a =\"nana\"\n",
    "b =8\n",
    "c =a*b\n",
    "print(c, \"Batman\")"
   ]
  },
  {
   "cell_type": "code",
   "execution_count": 1,
   "id": "9734a03c",
   "metadata": {},
   "outputs": [
    {
     "name": "stdout",
     "output_type": "stream",
     "text": [
      "Hi! We are studying ”Python”. \\n I hope you all are doing well. \n",
      "We are going to have a great time!\n"
     ]
    }
   ],
   "source": [
    "'''9. How do you print the exact following lines in the exact order using only 1 print statement in Python?\n",
    "Hi! We are studying ”Python”. \\n I hope you all are doing well.\n",
    "We are going to have a great time!'''\n",
    "\n",
    "print(\"Hi! We are studying ”Python”. \\\\n I hope you all are doing well. \\nWe are going to have a great time!\")"
   ]
  },
  {
   "cell_type": "code",
   "execution_count": null,
   "id": "a4aee2df",
   "metadata": {},
   "outputs": [
    {
     "name": "stdout",
     "output_type": "stream",
     "text": [
      "Name: Uttam Patnaik\n",
      "Mailing Address: \n",
      "Plot F-234,\n",
      "Ashok Nagar,\n",
      "Bhubaneswar-760051\n"
     ]
    }
   ],
   "source": [
    "'''10. Create a program that displays your name and complete mailing address. The address should be\n",
    "printed in the format that is normally used in the area where you live. Your program does not need to\n",
    "read any input from the user.'''\n",
    "\n",
    "print(\"Name: Uttam Patnaik\")\n",
    "print(\"Mailing Address: \\nPlot F-234,\\nAshok Nagar,\\nBhubaneswar-760051\")"
   ]
  },
  {
   "cell_type": "code",
   "execution_count": null,
   "id": "ad719546",
   "metadata": {},
   "outputs": [
    {
     "name": "stdout",
     "output_type": "stream",
     "text": [
      "26\n"
     ]
    }
   ],
   "source": [
    "'''11. Given an expression P (x) = x3 + 2x2 + 3x + 4, try to find the value of P(2) pythonically.'''\n",
    "\n",
    "def exp(x):\n",
    "    return (x**3+2*(x**2)+3*x+4)\n",
    "print(exp(2))"
   ]
  },
  {
   "cell_type": "code",
   "execution_count": 7,
   "id": "94d70603",
   "metadata": {},
   "outputs": [
    {
     "name": "stdin",
     "output_type": "stream",
     "text": [
      "Enter the radius:  2\n"
     ]
    },
    {
     "name": "stdout",
     "output_type": "stream",
     "text": [
      "Area of the circle having radius  2  is:  12.566370614359172\n",
      "Volume of the sphere having radius  2  is:  33.510321638291124\n"
     ]
    }
   ],
   "source": [
    "'''12. Write a program that begins by reading a radius, r, from the user. The program will continue by\n",
    "computing and displaying the area of a circle with radius r and the volume of a sphere with radius r.\n",
    "Use the pi constant in the math module in your calculations.\n",
    "Hint: The area of a circle is computed using the formula area = πr2 .\n",
    "The volume of a sphere is computed using the formula volume = 43 πr3 .'''\n",
    "\n",
    "import math\n",
    "r=int(input(\"Enter the radius: \"))\n",
    "a=math.pi*math.pow(r,2)\n",
    "v=(4/3)*math.pi*math.pow(r,3)\n",
    "print(\"Area of the circle having radius \",r,\" is: \",a)\n",
    "print(\"Volume of the sphere having radius \",r,\" is: \",v)"
   ]
  },
  {
   "cell_type": "code",
   "execution_count": null,
   "id": "a8bc409a",
   "metadata": {},
   "outputs": [
    {
     "name": "stdout",
     "output_type": "stream",
     "text": [
      "Enter a positive integer: 5\n",
      "Sum of the first  5  postive integers is:  15\n"
     ]
    }
   ],
   "source": [
    "'''13. Write a program that reads a positive integer, n, from the user and then displays the sum of all of\n",
    "the integers from 1 to n. The sum of the first n positive integers can be computed using the formula:\n",
    "sum = (n)(n+1)/2'''\n",
    "\n",
    "n=int(input(\"Enter a positive integer: \"))\n",
    "print(\"Sum of the first \",n,\" postive integers is: \",((n*(n+1)))//2)"
   ]
  },
  {
   "cell_type": "code",
   "execution_count": 11,
   "id": "088b850b",
   "metadata": {},
   "outputs": [
    {
     "name": "stdout",
     "output_type": "stream",
     "text": [
      "a. True\n",
      "b. False\n"
     ]
    }
   ],
   "source": [
    "''' 14. Evaluate the following expressions:\n",
    " (a<b) or (not(c==b) and (c<a))\n",
    " a. a =10, b=5, c=0\n",
    " b. a=1.21, b=1.20, c=1.22 '''\n",
    "#a.\n",
    "a=10\n",
    "b=5\n",
    "c=0\n",
    "print(\"a.\",(a<b) or (not(c==b) and (c<a)))\n",
    "#b.\n",
    "a=1.21\n",
    "b=1.20\n",
    "c=1.22\n",
    "print(\"b.\",(a<b) or (not(c==b) and (c<a)))"
   ]
  },
  {
   "cell_type": "code",
   "execution_count": null,
   "id": "f38eda93",
   "metadata": {},
   "outputs": [
    {
     "name": "stdout",
     "output_type": "stream",
     "text": [
      "Principal Amount:  1000\n",
      "Annual Rate of Return:  0.12\n",
      "Amount on deposit at the end of the 10th year is: 3105.85\n",
      "Amount on deposit at the end of the 20th year is: 9646.29\n",
      "Amount on deposit at the end of the 30th year is: 29959.92\n"
     ]
    }
   ],
   "source": [
    "'''15. Assume you start investing in Mutual Funds with Rs. 1000 and plan to leave your money invested.\n",
    "Calculate and display how much money you will have after 10, 20 and 30 years. Use the following\n",
    "formula for determining these amounts:\n",
    "a = p(1 + r)^n\n",
    "where p (principal) = Rs. 1000,\n",
    "r (annual rate of return) = 12\n",
    "n (number of years) = 10, 20, 30,\n",
    "a (amount on deposit at the end of the nth year).\n",
    "Disclaimer: Investing in Mutual Funds is subject to Market Risks. Do your due diligence before\n",
    "investing.'''\n",
    "\n",
    "def maturity_amt(p,r,n):\n",
    "    return (p*(1+r)**n)\n",
    "print(\"Principal Amount: \",1000)\n",
    "print(\"Annual Rate of Return: \",0.12)\n",
    "print(f\"Amount on deposit at the end of the 10th year is: {maturity_amt(1000,0.12,10):.2f}\")\n",
    "print(f\"Amount on deposit at the end of the 20th year is: {maturity_amt(1000,0.12,20):.2f}\")\n",
    "print(f\"Amount on deposit at the end of the 30th year is: {maturity_amt(1000,0.12,30):.2f}\")"
   ]
  },
  {
   "cell_type": "code",
   "execution_count": null,
   "id": "5e494d8d",
   "metadata": {},
   "outputs": [
    {
     "name": "stdout",
     "output_type": "stream",
     "text": [
      "e^π=  23.140692632779263\n",
      "π^e=  22.45915771836104\n",
      "ok\n"
     ]
    }
   ],
   "source": [
    "'''16. Import relevant Python modules and print the values of e^π and π^e . Then, if e^π > π^e , print ”ok”.\n",
    "Otherwise print ”ok anyway”.'''\n",
    "\n",
    "import math\n",
    "print(\"e^π= \",math.pow(math.e,math.pi))\n",
    "print(\"π^e= \",math.pow(math.pi,math.e))\n",
    "if((math.pow(math.e,math.pi))>(math.pow(math.pi,math.e))):\n",
    "   print(\"ok\")\n",
    "else:\n",
    "   print(\"ok anyway\")"
   ]
  },
  {
   "cell_type": "code",
   "execution_count": 12,
   "id": "339632a4",
   "metadata": {},
   "outputs": [
    {
     "name": "stdout",
     "output_type": "stream",
     "text": [
      "a. -85.0\n",
      "b. 2\n",
      "c. -50\n",
      "d. -25\n"
     ]
    }
   ],
   "source": [
    "'''17. Evaluate the following expressions involving arithmetic operators:\n",
    " a.-7*20+8/16*2+54\n",
    " b. 7**2//9%3\n",
    " c. (7-4*2)*10-25*8//5\n",
    " d. 5%10+10-25*8//5'''\n",
    "print(\"a.\",-7*20+8/16*2+54)\n",
    "print(\"b.\",7**2//9%3)\n",
    "print(\"c.\",(7-4*2)*10-25*8//5)\n",
    "print(\"d.\",5%10+10-25*8//5)"
   ]
  },
  {
   "cell_type": "code",
   "execution_count": null,
   "id": "a6dcf6a3",
   "metadata": {},
   "outputs": [],
   "source": [
    "''' 18. Evaluate the following expressions involving relational and logical operators: '''\n",
    "print('a.', 'hi' > 'hello' and 'bye' < 'Bye')\n",
    "print('b.', 'hi' > 'hello' or 'bye' < 'Bye')\n",
    "print('c.', 7 > 8 or 5 < 6 and 'Iamfine' > 'Iamnotfine')\n",
    "print('d.', 10 != 9 and 29 >= 29)\n",
    "print('e.', 10 != 9 and 29 >= 29 and 'hi' > 'hello' or 'bye' < 'Bye' and 7 <= 2.5)\n",
    "print('f.', 5 % 10 + 10 < 50 and 29 >= 29)\n",
    "print('g.', 7 ** 2 <= 5 // 9 % 3 or 'bye' < 'Bye')\n",
    "print('h.', 5 % 10 < 8 and -25 > 1 * 8 // 5)\n",
    "print('i.', 7 ** 2 // 4 + 5 > 8 or 5 != 6)\n",
    "print('j.', 7 / 4 < 6 and 'I am fine' > 'I am not fine')\n",
    "print('k.', 10 + 6 * 2**2 != 9 // 4 - 3 and 29 >= 29 / 9)\n",
    "print('l.', 'hello' * 5 > 'hello' or 'bye' < 'Bye')"
   ]
  },
  {
   "cell_type": "code",
   "execution_count": null,
   "id": "1574a48d",
   "metadata": {},
   "outputs": [
    {
     "name": "stdout",
     "output_type": "stream",
     "text": [
      "Total Cost for the meal: 5000\n",
      "Tax Amount: 1000.00\n",
      "Tax Amount: 900.00\n",
      "Grand Total for the meal: 6900.00\n"
     ]
    }
   ],
   "source": [
    "'''19. The program that you create for this exercise will begin by reading the cost of a meal ordered at a\n",
    "restaurant from the user. Then your program will compute the tax and tip for the meal. Use your local\n",
    "tax rate when computing the amount of tax owing. Compute the tip as 18 percent of the meal amount\n",
    "(without the tax). The output from your program should include the tax amount, the tip amount, and\n",
    "the grand total for the meal including both the tax and the tip. Format the output so that all of the\n",
    "values are displayed using two decimal places.'''\n",
    "\n",
    "meal=int(input(\"Total Cost for the meal: \"))\n",
    "ta=(20/100)*meal\n",
    "tp=(18/100)*meal\n",
    "print(f\"Tax Amount: {ta:.2f}\")\n",
    "print(f\"Tax Amount: {tp:.2f}\")\n",
    "print(f\"Grand Total for the meal: {(meal+ta+tp):.2f}\")"
   ]
  },
  {
   "cell_type": "code",
   "execution_count": null,
   "id": "2df381bd",
   "metadata": {},
   "outputs": [
    {
     "name": "stdout",
     "output_type": "stream",
     "text": [
      "Enter an integer: 5\n",
      "Enter another integer: 4\n",
      "Sum:  9\n",
      "Difference:  1\n",
      "Product:  20\n",
      "Quotient:  1.25\n",
      "Remainder:  1\n",
      "log10 a:  0.6989700043360189\n",
      "A^B:  625\n"
     ]
    }
   ],
   "source": [
    "'''20. Create a program that reads two integers, a and b, from the user. Your program should compute and\n",
    "display:\n",
    "• The sum of a and b\n",
    "• The difference when b is subtracted from a\n",
    "• The product of a and b\n",
    "• The quotient when a is divided by b\n",
    "• The remainder when a is divided by b\n",
    "• The result of log10 a\n",
    "• The result of ab\n",
    "Hint: You will probably find the log10 function in the math module helpful for computing the\n",
    "second last item in the list.'''\n",
    "\n",
    "import math\n",
    "a=(int(input(\"Enter an integer: \")))\n",
    "b=(int(input(\"Enter another integer: \")))\n",
    "print(\"Sum: \",(a+b))\n",
    "print(\"Difference: \",(a-b))\n",
    "print(\"Product: \",(a*b))\n",
    "print(\"Quotient: \",(a/b))\n",
    "print(\"Remainder: \",(a%b))\n",
    "print(\"log10 a: \",(math.log10(a)))\n",
    "print(\"A^B: \",(a**b))"
   ]
  },
  {
   "cell_type": "code",
   "execution_count": null,
   "id": "8df9f59a",
   "metadata": {},
   "outputs": [
    {
     "name": "stdout",
     "output_type": "stream",
     "text": [
      "Enter the initial speed: 10\n",
      "Enter the distance: 10\n",
      "The final speed:  17.204650534085253  m/s\n"
     ]
    }
   ],
   "source": [
    "'''21. Write a program that determines how quickly an object is travelling when it hits the ground. The user\n",
    "will enter the height from which the object is dropped in meters (m). Because the object is dropped its initial \n",
    "speed is 0 m/s. Assume that the acceleration due to gravity is 9.8m/s^2 . You can use the \n",
    "formula vf = square root((vi^2 + 2ad)) to compute the final speed, vf , when the initial speed vi , acceleration a,\n",
    "and distance, d, are known.'''\n",
    "\n",
    "import math\n",
    "vi=int(input(\"Enter the initial speed: \"))\n",
    "a=9.8\n",
    "d=int(input(\"Enter the distance: \"))\n",
    "vf=math.sqrt((math.pow(vi,2))+2*a*d)\n",
    "print(\"The final speed: \",vf,\" m/s\")"
   ]
  },
  {
   "cell_type": "code",
   "execution_count": null,
   "id": "44601836",
   "metadata": {},
   "outputs": [
    {
     "name": "stdout",
     "output_type": "stream",
     "text": [
      "Enter the temp. in Celsius: 0\n",
      "Temparature in Fahrenheit:  32.0\n",
      "Temparature in Kelvin:  273\n"
     ]
    }
   ],
   "source": [
    "'''22. Write a program that begins by reading a temperature from the user in degrees Celsius. Then your\n",
    "program should display the equivalent temperature in degrees Fahrenheit and degrees Kelvin. The\n",
    "calculations needed to convert between different units of temperature can be found on the Internet.'''\n",
    "\n",
    "c=int(input(\"Enter the temp. in Celsius: \"))\n",
    "f=(9*c/5)+32\n",
    "k=273+c\n",
    "print(\"Temparature in Fahrenheit: \",f)\n",
    "print(\"Temparature in Kelvin: \",k)"
   ]
  },
  {
   "cell_type": "code",
   "execution_count": null,
   "id": "0fc4741a",
   "metadata": {},
   "outputs": [
    {
     "name": "stdout",
     "output_type": "stream",
     "text": [
      "Enter a 4 digit integer: 3141\n",
      "1 + 4 + 1 + 3 = 9\n"
     ]
    }
   ],
   "source": [
    "'''23. Write a program that reads a four-digit integer from the user and displays the sum of its digits. For\n",
    "example, if the user enters 3141 then your program should display 3 + 1 + 4 + 1 = 9.'''\n",
    "n=input(\"Enter a 4 digit integer: \")\n",
    "a=int(n)\n",
    "s=0\n",
    "while(a>0):\n",
    "    d=a%10\n",
    "    s=s+d\n",
    "    a=a//10\n",
    "print(\" + \".join(n[::-1]), \"=\", s)"
   ]
  },
  {
   "cell_type": "code",
   "execution_count": 3,
   "id": "7ced32f0",
   "metadata": {},
   "outputs": [
    {
     "name": "stdout",
     "output_type": "stream",
     "text": [
      "Enter 3 integers: \n"
     ]
    },
    {
     "name": "stdin",
     "output_type": "stream",
     "text": [
      "1.  2\n",
      "2.  4\n",
      "3.  6\n"
     ]
    },
    {
     "name": "stdout",
     "output_type": "stream",
     "text": [
      "Minimum Value:  6\n",
      "Middle Value:  4\n",
      "Minimum Value:  2\n"
     ]
    }
   ],
   "source": [
    "''' 24. Write a program that reads three integers from the user and displays them in sorted order (from\n",
    " smallest to largest). Use the min and max functions to find the smallest and largest values. The middle\n",
    " value can be found by computing the sum of all three values, and then subtracting the minimum value\n",
    " and the maximum value.'''\n",
    "\n",
    "print(\"Enter 3 integers: \")\n",
    "a=int(input(\"1. \"))\n",
    "b=int(input(\"2. \"))\n",
    "c=int(input(\"3. \"))\n",
    "Maximum=max(a,b,c)\n",
    "Minimum=min(a,b,c)\n",
    "Middle=(a+b+c)-Maximum-Minimum\n",
    "print(\"Minimum Value: \",Maximum)\n",
    "print(\"Middle Value: \",Middle)\n",
    "print(\"Minimum Value: \",Minimum)"
   ]
  },
  {
   "cell_type": "code",
   "execution_count": 4,
   "id": "a81372a1",
   "metadata": {},
   "outputs": [
    {
     "name": "stdout",
     "output_type": "stream",
     "text": [
      "Enter the number of days, hours, minutes, and seconds\n"
     ]
    },
    {
     "name": "stdin",
     "output_type": "stream",
     "text": [
      "Days:  5\n",
      "Hours:  4\n",
      "Minutes:  20\n",
      "Seconds:  30\n"
     ]
    },
    {
     "name": "stdout",
     "output_type": "stream",
     "text": [
      "Total time in seconds:  447630\n"
     ]
    }
   ],
   "source": [
    "''' 25. Create a program that reads duration from the user as a number of days, hours, minutes, and seconds.\n",
    " Compute and display the total number of seconds represented by this duration.'''\n",
    "\n",
    "print(\"Enter the number of days, hours, minutes, and seconds\")\n",
    "d=int(input(\"Days: \"))\n",
    "h=int(input(\"Hours: \"))\n",
    "m=int(input(\"Minutes: \"))\n",
    "s=int(input(\"Seconds: \"))\n",
    "Tis=d*86400+h*3600+m*60+s\n",
    "print(\"Total time in seconds: \",Tis)"
   ]
  }
 ],
 "metadata": {
  "kernelspec": {
   "display_name": "Python 3 (ipykernel)",
   "language": "python",
   "name": "python3"
  },
  "language_info": {
   "codemirror_mode": {
    "name": "ipython",
    "version": 3
   },
   "file_extension": ".py",
   "mimetype": "text/x-python",
   "name": "python",
   "nbconvert_exporter": "python",
   "pygments_lexer": "ipython3",
   "version": "3.13.5"
  }
 },
 "nbformat": 4,
 "nbformat_minor": 5
}
